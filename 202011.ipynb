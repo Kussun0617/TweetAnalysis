{
 "cells": [
  {
   "cell_type": "code",
   "execution_count": 3,
   "metadata": {},
   "outputs": [],
   "source": [
    "import pandas as pd\n",
    "import matplotlib.pyplot as plt"
   ]
  },
  {
   "cell_type": "code",
   "execution_count": 4,
   "metadata": {},
   "outputs": [
    {
     "name": "stdout",
     "output_type": "stream",
     "text": [
      "202011.ipynb\r\n"
     ]
    }
   ],
   "source": [
    "!ls"
   ]
  },
  {
   "cell_type": "code",
   "execution_count": 5,
   "metadata": {},
   "outputs": [
    {
     "name": "stdout",
     "output_type": "stream",
     "text": [
      "202011.ipynb                        tweet_activity_metrics_20201108.csv\r\n"
     ]
    }
   ],
   "source": [
    "!ls"
   ]
  },
  {
   "cell_type": "code",
   "execution_count": 6,
   "metadata": {},
   "outputs": [
    {
     "data": {
      "text/html": [
       "<div>\n",
       "<style scoped>\n",
       "    .dataframe tbody tr th:only-of-type {\n",
       "        vertical-align: middle;\n",
       "    }\n",
       "\n",
       "    .dataframe tbody tr th {\n",
       "        vertical-align: top;\n",
       "    }\n",
       "\n",
       "    .dataframe thead th {\n",
       "        text-align: right;\n",
       "    }\n",
       "</style>\n",
       "<table border=\"1\" class=\"dataframe\">\n",
       "  <thead>\n",
       "    <tr style=\"text-align: right;\">\n",
       "      <th></th>\n",
       "      <th>ツイートID</th>\n",
       "      <th>ツイートの固定リンク</th>\n",
       "      <th>ツイート本文</th>\n",
       "      <th>時間</th>\n",
       "      <th>インプレッション</th>\n",
       "      <th>エンゲージメント</th>\n",
       "      <th>エンゲージメント率</th>\n",
       "      <th>リツイート</th>\n",
       "      <th>返信</th>\n",
       "      <th>いいね</th>\n",
       "      <th>...</th>\n",
       "      <th>プロモのハッシュタグクリック</th>\n",
       "      <th>プロモの詳細クリック</th>\n",
       "      <th>プロモの固定リンクのクリック数</th>\n",
       "      <th>プロモのアプリ表示</th>\n",
       "      <th>プロモのアプリインストール</th>\n",
       "      <th>プロモのフォローしている</th>\n",
       "      <th>プロモのツイートをメール送信</th>\n",
       "      <th>プロモのダイアル式電話</th>\n",
       "      <th>プロモのメディアの再生数</th>\n",
       "      <th>プロモのメディアのエンゲージメント数</th>\n",
       "    </tr>\n",
       "  </thead>\n",
       "  <tbody>\n",
       "    <tr>\n",
       "      <th>0</th>\n",
       "      <td>1324468128600924160</td>\n",
       "      <td>https://twitter.com/rivi_h30/status/1324468128...</td>\n",
       "      <td>@teruyama_mecha そうですよね！\\n\\nおそらく反対派の多くは人が運転すること...</td>\n",
       "      <td>2020-11-05 21:46 +0000</td>\n",
       "      <td>32.0</td>\n",
       "      <td>1.0</td>\n",
       "      <td>0.031250</td>\n",
       "      <td>0.0</td>\n",
       "      <td>0.0</td>\n",
       "      <td>1.0</td>\n",
       "      <td>...</td>\n",
       "      <td>-</td>\n",
       "      <td>-</td>\n",
       "      <td>-</td>\n",
       "      <td>-</td>\n",
       "      <td>-</td>\n",
       "      <td>-</td>\n",
       "      <td>-</td>\n",
       "      <td>-</td>\n",
       "      <td>-</td>\n",
       "      <td>-</td>\n",
       "    </tr>\n",
       "    <tr>\n",
       "      <th>1</th>\n",
       "      <td>1324467591058915328</td>\n",
       "      <td>https://twitter.com/rivi_h30/status/1324467591...</td>\n",
       "      <td>中国に工場を持っている機械メーカーは、コロナショックから回復しつつありますねー！\\n\\nヤマ...</td>\n",
       "      <td>2020-11-05 21:44 +0000</td>\n",
       "      <td>362.0</td>\n",
       "      <td>20.0</td>\n",
       "      <td>0.055249</td>\n",
       "      <td>0.0</td>\n",
       "      <td>0.0</td>\n",
       "      <td>5.0</td>\n",
       "      <td>...</td>\n",
       "      <td>-</td>\n",
       "      <td>-</td>\n",
       "      <td>-</td>\n",
       "      <td>-</td>\n",
       "      <td>-</td>\n",
       "      <td>-</td>\n",
       "      <td>-</td>\n",
       "      <td>-</td>\n",
       "      <td>-</td>\n",
       "      <td>-</td>\n",
       "    </tr>\n",
       "    <tr>\n",
       "      <th>2</th>\n",
       "      <td>1324464276044619778</td>\n",
       "      <td>https://twitter.com/rivi_h30/status/1324464276...</td>\n",
       "      <td>ブログを更新しました。\\n【「工具が入らない！」に備えよう！工具干渉の対策に使えるアイデア】...</td>\n",
       "      <td>2020-11-05 21:31 +0000</td>\n",
       "      <td>528.0</td>\n",
       "      <td>65.0</td>\n",
       "      <td>0.123106</td>\n",
       "      <td>2.0</td>\n",
       "      <td>0.0</td>\n",
       "      <td>12.0</td>\n",
       "      <td>...</td>\n",
       "      <td>-</td>\n",
       "      <td>-</td>\n",
       "      <td>-</td>\n",
       "      <td>-</td>\n",
       "      <td>-</td>\n",
       "      <td>-</td>\n",
       "      <td>-</td>\n",
       "      <td>-</td>\n",
       "      <td>-</td>\n",
       "      <td>-</td>\n",
       "    </tr>\n",
       "    <tr>\n",
       "      <th>3</th>\n",
       "      <td>1324116088649494528</td>\n",
       "      <td>https://twitter.com/rivi_h30/status/1324116088...</td>\n",
       "      <td>現時点で認知されている技術や、運用の仕組み（免許など）をベースで考えると、「頭上を車が飛ぶな...</td>\n",
       "      <td>2020-11-04 22:27 +0000</td>\n",
       "      <td>518.0</td>\n",
       "      <td>14.0</td>\n",
       "      <td>0.027027</td>\n",
       "      <td>0.0</td>\n",
       "      <td>1.0</td>\n",
       "      <td>7.0</td>\n",
       "      <td>...</td>\n",
       "      <td>-</td>\n",
       "      <td>-</td>\n",
       "      <td>-</td>\n",
       "      <td>-</td>\n",
       "      <td>-</td>\n",
       "      <td>-</td>\n",
       "      <td>-</td>\n",
       "      <td>-</td>\n",
       "      <td>-</td>\n",
       "      <td>-</td>\n",
       "    </tr>\n",
       "    <tr>\n",
       "      <th>4</th>\n",
       "      <td>1323756503879184384</td>\n",
       "      <td>https://twitter.com/rivi_h30/status/1323756503...</td>\n",
       "      <td>加工ってすごい地味で古臭いイメージを持たれている方もいるかも知れませんが、実はなかなか奥が深...</td>\n",
       "      <td>2020-11-03 22:38 +0000</td>\n",
       "      <td>451.0</td>\n",
       "      <td>21.0</td>\n",
       "      <td>0.046563</td>\n",
       "      <td>0.0</td>\n",
       "      <td>0.0</td>\n",
       "      <td>7.0</td>\n",
       "      <td>...</td>\n",
       "      <td>-</td>\n",
       "      <td>-</td>\n",
       "      <td>-</td>\n",
       "      <td>-</td>\n",
       "      <td>-</td>\n",
       "      <td>-</td>\n",
       "      <td>-</td>\n",
       "      <td>-</td>\n",
       "      <td>-</td>\n",
       "      <td>-</td>\n",
       "    </tr>\n",
       "  </tbody>\n",
       "</table>\n",
       "<p>5 rows × 40 columns</p>\n",
       "</div>"
      ],
      "text/plain": [
       "                ツイートID                                         ツイートの固定リンク  \\\n",
       "0  1324468128600924160  https://twitter.com/rivi_h30/status/1324468128...   \n",
       "1  1324467591058915328  https://twitter.com/rivi_h30/status/1324467591...   \n",
       "2  1324464276044619778  https://twitter.com/rivi_h30/status/1324464276...   \n",
       "3  1324116088649494528  https://twitter.com/rivi_h30/status/1324116088...   \n",
       "4  1323756503879184384  https://twitter.com/rivi_h30/status/1323756503...   \n",
       "\n",
       "                                              ツイート本文                      時間  \\\n",
       "0  @teruyama_mecha そうですよね！\\n\\nおそらく反対派の多くは人が運転すること...  2020-11-05 21:46 +0000   \n",
       "1  中国に工場を持っている機械メーカーは、コロナショックから回復しつつありますねー！\\n\\nヤマ...  2020-11-05 21:44 +0000   \n",
       "2  ブログを更新しました。\\n【「工具が入らない！」に備えよう！工具干渉の対策に使えるアイデア】...  2020-11-05 21:31 +0000   \n",
       "3  現時点で認知されている技術や、運用の仕組み（免許など）をベースで考えると、「頭上を車が飛ぶな...  2020-11-04 22:27 +0000   \n",
       "4  加工ってすごい地味で古臭いイメージを持たれている方もいるかも知れませんが、実はなかなか奥が深...  2020-11-03 22:38 +0000   \n",
       "\n",
       "   インプレッション  エンゲージメント  エンゲージメント率  リツイート   返信   いいね  ...  プロモのハッシュタグクリック  \\\n",
       "0      32.0       1.0   0.031250    0.0  0.0   1.0  ...               -   \n",
       "1     362.0      20.0   0.055249    0.0  0.0   5.0  ...               -   \n",
       "2     528.0      65.0   0.123106    2.0  0.0  12.0  ...               -   \n",
       "3     518.0      14.0   0.027027    0.0  1.0   7.0  ...               -   \n",
       "4     451.0      21.0   0.046563    0.0  0.0   7.0  ...               -   \n",
       "\n",
       "   プロモの詳細クリック  プロモの固定リンクのクリック数  プロモのアプリ表示  プロモのアプリインストール  プロモのフォローしている  \\\n",
       "0           -                -          -              -             -   \n",
       "1           -                -          -              -             -   \n",
       "2           -                -          -              -             -   \n",
       "3           -                -          -              -             -   \n",
       "4           -                -          -              -             -   \n",
       "\n",
       "   プロモのツイートをメール送信  プロモのダイアル式電話  プロモのメディアの再生数  プロモのメディアのエンゲージメント数  \n",
       "0               -            -             -                   -  \n",
       "1               -            -             -                   -  \n",
       "2               -            -             -                   -  \n",
       "3               -            -             -                   -  \n",
       "4               -            -             -                   -  \n",
       "\n",
       "[5 rows x 40 columns]"
      ]
     },
     "execution_count": 6,
     "metadata": {},
     "output_type": "execute_result"
    }
   ],
   "source": [
    "nov2020_df = pd.read_csv(\"tweet_activity_metrics_20201108.csv\")\n",
    "nov2020_df.head()"
   ]
  },
  {
   "cell_type": "code",
   "execution_count": 7,
   "metadata": {},
   "outputs": [
    {
     "data": {
      "text/plain": [
       "array(['ツイートID', 'ツイートの固定リンク', 'ツイート本文', '時間', 'インプレッション', 'エンゲージメント',\n",
       "       'エンゲージメント率', 'リツイート', '返信', 'いいね', 'ユーザープロフィールクリック', 'URLクリック数',\n",
       "       'ハッシュタグクリック', '詳細クリック', '固定リンクのクリック数', 'アプリ表示', 'アプリインストール',\n",
       "       'フォローしている', 'ツイートをメール送信', 'ダイアル式電話', 'メディアの再生数', 'メディアのエンゲージメント数',\n",
       "       'プロモのインプレッション', 'プロモのエンゲージメント', 'プロモのエンゲージメント率', 'プロモのリツイート',\n",
       "       'プロモの返信', 'プロモのいいね', 'プロモのユーザープロフィールクリック', 'プロモのURLクリック数',\n",
       "       'プロモのハッシュタグクリック', 'プロモの詳細クリック', 'プロモの固定リンクのクリック数', 'プロモのアプリ表示',\n",
       "       'プロモのアプリインストール', 'プロモのフォローしている', 'プロモのツイートをメール送信', 'プロモのダイアル式電話',\n",
       "       'プロモのメディアの再生数', 'プロモのメディアのエンゲージメント数'], dtype=object)"
      ]
     },
     "execution_count": 7,
     "metadata": {},
     "output_type": "execute_result"
    }
   ],
   "source": [
    "nov2020_df.columns.values"
   ]
  },
  {
   "cell_type": "code",
   "execution_count": 10,
   "metadata": {},
   "outputs": [
    {
     "ename": "SyntaxError",
     "evalue": "invalid syntax (<ipython-input-10-25d21ca8f53f>, line 1)",
     "output_type": "error",
     "traceback": [
      "\u001b[0;36m  File \u001b[0;32m\"<ipython-input-10-25d21ca8f53f>\"\u001b[0;36m, line \u001b[0;32m1\u001b[0m\n\u001b[0;31m    for value in nov2020_df.columns.values\u001b[0m\n\u001b[0m                                          ^\u001b[0m\n\u001b[0;31mSyntaxError\u001b[0m\u001b[0;31m:\u001b[0m invalid syntax\n"
     ]
    }
   ],
   "source": [
    "for value in nov2020_df.columns.values\n",
    "    print(value)"
   ]
  },
  {
   "cell_type": "code",
   "execution_count": 12,
   "metadata": {},
   "outputs": [
    {
     "name": "stdout",
     "output_type": "stream",
     "text": [
      "ツイートID\n",
      "ツイートの固定リンク\n",
      "ツイート本文\n",
      "時間\n",
      "インプレッション\n",
      "エンゲージメント\n",
      "エンゲージメント率\n",
      "リツイート\n",
      "返信\n",
      "いいね\n",
      "ユーザープロフィールクリック\n",
      "URLクリック数\n",
      "ハッシュタグクリック\n",
      "詳細クリック\n",
      "固定リンクのクリック数\n",
      "アプリ表示\n",
      "アプリインストール\n",
      "フォローしている\n",
      "ツイートをメール送信\n",
      "ダイアル式電話\n",
      "メディアの再生数\n",
      "メディアのエンゲージメント数\n",
      "プロモのインプレッション\n",
      "プロモのエンゲージメント\n",
      "プロモのエンゲージメント率\n",
      "プロモのリツイート\n",
      "プロモの返信\n",
      "プロモのいいね\n",
      "プロモのユーザープロフィールクリック\n",
      "プロモのURLクリック数\n",
      "プロモのハッシュタグクリック\n",
      "プロモの詳細クリック\n",
      "プロモの固定リンクのクリック数\n",
      "プロモのアプリ表示\n",
      "プロモのアプリインストール\n",
      "プロモのフォローしている\n",
      "プロモのツイートをメール送信\n",
      "プロモのダイアル式電話\n",
      "プロモのメディアの再生数\n",
      "プロモのメディアのエンゲージメント数\n"
     ]
    }
   ],
   "source": [
    "for value in nov2020_df.columns.values:\n",
    "    print(value)"
   ]
  },
  {
   "cell_type": "code",
   "execution_count": null,
   "metadata": {},
   "outputs": [],
   "source": []
  }
 ],
 "metadata": {
  "kernelspec": {
   "display_name": "Python 3",
   "language": "python",
   "name": "python3"
  },
  "language_info": {
   "codemirror_mode": {
    "name": "ipython",
    "version": 3
   },
   "file_extension": ".py",
   "mimetype": "text/x-python",
   "name": "python",
   "nbconvert_exporter": "python",
   "pygments_lexer": "ipython3",
   "version": "3.8.3"
  }
 },
 "nbformat": 4,
 "nbformat_minor": 4
}
